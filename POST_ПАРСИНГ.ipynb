{
 "cells": [
  {
   "cell_type": "code",
   "execution_count": 48,
   "id": "d6c118c6-48f3-4532-9742-1d29df88e926",
   "metadata": {},
   "outputs": [
    {
     "name": "stdout",
     "output_type": "stream",
     "text": [
      "Requirement already satisfied: requests in c:\\users\\admin\\anaconda3\\lib\\site-packages (2.31.0)\n",
      "Requirement already satisfied: beautifulsoup4 in c:\\users\\admin\\anaconda3\\lib\\site-packages (4.12.2)\n",
      "Requirement already satisfied: lxml in c:\\users\\admin\\anaconda3\\lib\\site-packages (4.9.3)\n",
      "Requirement already satisfied: charset-normalizer<4,>=2 in c:\\users\\admin\\anaconda3\\lib\\site-packages (from requests) (2.0.4)\n",
      "Requirement already satisfied: idna<4,>=2.5 in c:\\users\\admin\\anaconda3\\lib\\site-packages (from requests) (3.4)\n",
      "Requirement already satisfied: urllib3<3,>=1.21.1 in c:\\users\\admin\\anaconda3\\lib\\site-packages (from requests) (2.0.7)\n",
      "Requirement already satisfied: certifi>=2017.4.17 in c:\\users\\admin\\anaconda3\\lib\\site-packages (from requests) (2024.6.2)\n",
      "Requirement already satisfied: soupsieve>1.2 in c:\\users\\admin\\anaconda3\\lib\\site-packages (from beautifulsoup4) (2.5)\n",
      "Note: you may need to restart the kernel to use updated packages.\n"
     ]
    }
   ],
   "source": [
    "pip install requests beautifulsoup4 lxml"
   ]
  },
  {
   "cell_type": "code",
   "execution_count": 49,
   "id": "e0ecaa55-651d-41e8-bfd1-2b4481072a0d",
   "metadata": {},
   "outputs": [],
   "source": [
    "from requests import Session\n",
    "from bs4 import BeautifulSoup as bs\n",
    "from time import sleep"
   ]
  },
  {
   "cell_type": "code",
   "execution_count": 50,
   "id": "9ed2899d-713d-4049-be74-6df88e53821e",
   "metadata": {},
   "outputs": [],
   "source": [
    "work = Session()\n",
    "headers = {\n",
    " 'User-Agent': 'Mozilla/5.0 (Windows NT 10.0; Win64; x64) AppleWebKit/537.36 (KHTML, like Gecko) Chrome/91.0.4472.124 Safari/537.36',\n",
    "    'Accept': 'text/html,application/xhtml+xml,application/xml;q=0.9,image/webp,*/*;q=0.8',\n",
    "    'Accept-Language': 'en-US,en;q=0.5',\n",
    "    'Accept-Encoding': 'gzip, deflate',\n",
    "    'Connection': 'keep-alive'\n",
    "}"
   ]
  },
  {
   "cell_type": "code",
   "execution_count": 51,
   "id": "12ab3c8b-e249-406e-a75f-53920bbc45fb",
   "metadata": {},
   "outputs": [
    {
     "data": {
      "text/plain": [
       "<Response [200]>"
      ]
     },
     "execution_count": 51,
     "metadata": {},
     "output_type": "execute_result"
    }
   ],
   "source": [
    "work.get(\"https://quotes.toscrape.com/\", headers=headers)"
   ]
  },
  {
   "cell_type": "code",
   "execution_count": 52,
   "id": "d1e3a1c5-df63-4671-8f6f-2cf19390fa82",
   "metadata": {},
   "outputs": [],
   "source": [
    "response = work.get('https://quotes.toscrape.com/login', headers=headers)"
   ]
  },
  {
   "cell_type": "code",
   "execution_count": 53,
   "id": "9d6d4d50-f9a6-41f3-9587-5b28b6a784a9",
   "metadata": {},
   "outputs": [],
   "source": [
    "soup = bs(response.text, \"lxml\")"
   ]
  },
  {
   "cell_type": "code",
   "execution_count": 54,
   "id": "5854fdc2-fbc5-46ba-b900-238ec9d27466",
   "metadata": {},
   "outputs": [],
   "source": [
    "csrf_token = soup.find(\"form\").find(\"input\").get(\"value\")"
   ]
  },
  {
   "cell_type": "code",
   "execution_count": 55,
   "id": "8589e314-270c-484c-836b-2450896d2520",
   "metadata": {},
   "outputs": [
    {
     "data": {
      "text/plain": [
       "'rhBZiuLTzwJxFfpEPDMIayGsqKHkYCmRbQNXVgoendAtjSlcOWUv'"
      ]
     },
     "execution_count": 55,
     "metadata": {},
     "output_type": "execute_result"
    }
   ],
   "source": [
    "csrf_token"
   ]
  },
  {
   "cell_type": "code",
   "execution_count": 56,
   "id": "da02a4c7-52a5-4984-8b23-d9ea537866e6",
   "metadata": {},
   "outputs": [],
   "source": [
    "data = {\"csrf_token\": csrf_token, \"username\": \"name\", \"password\": \"password\"}"
   ]
  },
  {
   "cell_type": "code",
   "execution_count": 57,
   "id": "ae440401-a500-4ee6-8f5f-8f5c2138a9b5",
   "metadata": {},
   "outputs": [],
   "source": [
    "result = work.post('https://quotes.toscrape.com/login', headers=headers, data=data, allow_redirects=True)"
   ]
  },
  {
   "cell_type": "raw",
   "id": "eaa03393-0e38-4a30-98d5-6ee001733eeb",
   "metadata": {},
   "source": []
  },
  {
   "cell_type": "code",
   "execution_count": null,
   "id": "075a010c-180c-4f47-b671-606990d89794",
   "metadata": {},
   "outputs": [],
   "source": []
  }
 ],
 "metadata": {
  "kernelspec": {
   "display_name": "Python 3 (ipykernel)",
   "language": "python",
   "name": "python3"
  },
  "language_info": {
   "codemirror_mode": {
    "name": "ipython",
    "version": 3
   },
   "file_extension": ".py",
   "mimetype": "text/x-python",
   "name": "python",
   "nbconvert_exporter": "python",
   "pygments_lexer": "ipython3",
   "version": "3.11.7"
  }
 },
 "nbformat": 4,
 "nbformat_minor": 5
}
